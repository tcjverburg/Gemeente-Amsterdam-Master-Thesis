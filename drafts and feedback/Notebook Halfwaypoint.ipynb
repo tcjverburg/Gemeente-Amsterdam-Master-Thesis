{
 "cells": [
  {
   "cell_type": "markdown",
   "metadata": {},
   "source": [
    "## Notebook 16-05-19\n",
    "\n",
    "Tom Verburg\n",
    "10769633"
   ]
  },
  {
   "cell_type": "code",
   "execution_count": 1,
   "metadata": {},
   "outputs": [
    {
     "name": "stderr",
     "output_type": "stream",
     "text": [
      "C:\\Users\\tom_v\\AppData\\Local\\Continuum\\anaconda2\\envs\\PythonNieuw\\lib\\site-packages\\gensim\\utils.py:1197: UserWarning: detected Windows; aliasing chunkize to chunkize_serial\n",
      "  warnings.warn(\"detected Windows; aliasing chunkize to chunkize_serial\")\n"
     ]
    }
   ],
   "source": [
    "import json\n",
    "import numpy as np\n",
    "import matplotlib.pyplot as plt\n",
    "from model_functions import *\n",
    "import pandas as pd\n",
    "import itertools\n",
    "from IPython.display import HTML, display\n",
    "import tabulate\n",
    "import sys\n",
    "sys.path.insert(0, 'C:/Users/tom_v/Documents/Master/Thesis/Master-Thesis/research/pre-processing')\n",
    "from pre_processing_functions import *\n",
    "import re\n",
    "import itertools\n",
    "from sklearn.feature_extraction.text import CountVectorizer, TfidfTransformer\n",
    "base = os.getcwd().split('Master-Thesis')[0].replace('\\\\', '/')\n",
    "from sklearn.feature_selection import mutual_info_classif\n",
    "from sklearn.feature_extraction.text import CountVectorizer\n",
    "from sklearn.model_selection import GridSearchCV\n",
    "from sklearn.pipeline import Pipeline, make_pipeline\n",
    "from sklearn.model_selection import ParameterGrid\n",
    "from sklearn.model_selection import cross_validate\n",
    "from sklearn.feature_selection import SelectKBest, chi2\n",
    "import operator\n",
    "from gensim.sklearn_api import D2VTransformer\n",
    "from IPython.display import display"
   ]
  },
  {
   "cell_type": "markdown",
   "metadata": {},
   "source": [
    "## Overview of content "
   ]
  },
  {
   "cell_type": "markdown",
   "metadata": {},
   "source": [
    "In this notebook, the aim is to get an oversight of the achievements so far, as well as which things I still wish to approach. First off there is the EDA of the dataset used. This is filtered so that there are no duplicate pages, as well as all the split deed documents removed due to ambigous highlighting between documents. \n",
    "\n",
    "This ambigouity originates from the same documents being processed for different cases. This results in some highlights always being essential, whilst others which are case specific are not. This can be due to address specificiations, or whether there are certain exceptions to an address which do not apply to other splits in the document.\n",
    "\n",
    "The ambigouity of the highlighting is not only reserved to the split documents. However, split documents are a main source ambigouity when it comes to inconsitency of highlights. Therefore, one question is:\n",
    "\n",
    "**To what extent can the f1 measure go up(?) if split deeds are not included?**\n",
    "\n",
    "\n",
    "\n",
    "Furthermore, due to there being a variety of hyperparameters to tune, the following question is posed:\n",
    "\n",
    "**What values for the hyperparameters vocabulary size, minimal amount of document frequency and regularization value result in the best f1 for both TF and TFIDF vectorization for the binary classification task?**\n",
    "\n",
    "To answer this question, grid search is performed for different hyperparameters for the cross fold classification pipeline.  The hyperparemeters which were tested were k (amount of features) and  min df (minimal amount of document frequency) for the vectorization method. This was either the TF or TFIDF. The final parameter tested was C (the regularization parameter) for the classifier (which in this case is always the logistic regression). This combination of different parameters resulted in 750 fits for both cross validation grid searches \n",
    "\n",
    "The answer to both questions can be seen in the result section of this notebook."
   ]
  },
  {
   "cell_type": "code",
   "execution_count": 2,
   "metadata": {},
   "outputs": [],
   "source": [
    "df_final = pd.read_pickle('complete_dataframe_tokenized_versions.pickle')\n",
    "path_df_anno = base + '/Master-Thesis/research/pre-processing/df_anno_complete_dataset.pickle'"
   ]
  },
  {
   "cell_type": "markdown",
   "metadata": {},
   "source": [
    "## EDA "
   ]
  },
  {
   "cell_type": "markdown",
   "metadata": {},
   "source": [
    "Here the complete dataset is described, without any of the files filtered out. It initially consists of a set of 100000 (binary labelled) pages spread over 4000 different documents, but because there are many pages which are the same these were eliminated from the dataset, as well as pages belonging to splitsing aktes. Following this, all the pages were vectorized using different methods and then a logistic regression model was applied to see how well these different vectors performed. Firstly, the EDA of the processed dataset used is shown below."
   ]
  },
  {
   "cell_type": "code",
   "execution_count": 22,
   "metadata": {},
   "outputs": [
    {
     "name": "stdout",
     "output_type": "stream",
     "text": [
      "Size dataframe:                  22792\n",
      "Unique filenames:                2476\n",
      "Unique pages:                    22792\n",
      "Unique words complete tokenized: 59514\n",
      "\n",
      "Relevance disribution:           False: 18559\n",
      "                                 True: 4233\n"
     ]
    }
   ],
   "source": [
    "print('Size dataframe:                  ' + str(len(df_overlap)))\n",
    "print('Unique filenames:                ' + str(len(set(df_overlap.filename))))\n",
    "print('Unique pages:                    ' + str(len(set(df_overlap.text_string))))\n",
    "print('Unique words complete tokenized: ' + str(len(set(list(itertools.chain.from_iterable(df_overlap.text_tokenized))))))\n",
    "print('')\n",
    "print('Relevance disribution:           False: ' + str(df_overlap.relevant.value_counts()[0]))\n",
    "print('                                 True: '+ str(df_overlap.relevant.value_counts()[1]))"
   ]
  },
  {
   "cell_type": "code",
   "execution_count": 23,
   "metadata": {},
   "outputs": [
    {
     "data": {
      "text/plain": [
       "Text(0.5,1,'Distribution number of pages per document after processing')"
      ]
     },
     "execution_count": 23,
     "metadata": {},
     "output_type": "execute_result"
    },
    {
     "data": {
      "image/png": "[encoded data removed]",
      "text/plain": [
       "<Figure size 720x360 with 1 Axes>"
      ]
     },
     "metadata": {},
     "output_type": "display_data"
    }
   ],
   "source": [
    "number_of_pages = sorted(np.array(df_overlap.groupby(['filename'], sort=False)['page'].max()))\n",
    "plt.figure(figsize=(10,5))\n",
    "plt.hist(number_of_pages, bins = len(set(sorted(number_of_pages))) )\n",
    "plt.ylabel('Number of documents', fontweight='bold')\n",
    "plt.xlabel('Number of pages', fontweight='bold')\n",
    "plt.title(\"Distribution number of pages per document after processing\", fontweight='bold')"
   ]
  },
  {
   "cell_type": "markdown",
   "metadata": {},
   "source": [
    "As can be observed, the distribution of the number of pages has a very long tail because there are several documents which are extremely long."
   ]
  },
  {
   "cell_type": "code",
   "execution_count": 24,
   "metadata": {},
   "outputs": [
    {
     "data": {
      "text/plain": [
       "Text(0.5,1,'Distribution number or words per page after processing')"
      ]
     },
     "execution_count": 24,
     "metadata": {},
     "output_type": "execute_result"
    },
    {
     "data": {
      "image/png": "[encoded data removed]",
      "text/plain": [
       "<Figure size 720x360 with 1 Axes>"
      ]
     },
     "metadata": {},
     "output_type": "display_data"
    }
   ],
   "source": [
    "page_length = [len(page) for page in list(df_overlap['text_tokenized_with_numbers'])]\n",
    "plt.figure(figsize=(10,5))\n",
    "\n",
    "plt.hist(page_length, bins = int(len(set(page_length))/5))\n",
    "plt.ylabel('Number of pages', fontweight='bold')\n",
    "plt.xlabel('Number of words', fontweight='bold')\n",
    "plt.title(\"Distribution number or words per page after processing\", fontweight='bold')"
   ]
  },
  {
   "cell_type": "markdown",
   "metadata": {},
   "source": [
    "This distribution of the number of words per page seems binomally distributed, but there are many pages with less than a hundred words. This is due to all documents containing a beginning and end page which are (on average) a lot shorter compared to the other pages in the corpus."
   ]
  },
  {
   "cell_type": "code",
   "execution_count": 12,
   "metadata": {},
   "outputs": [
    {
     "data": {
      "text/plain": [
       "{'algemen',\n",
       " 'besluit',\n",
       " 'bestemm',\n",
       " 'del',\n",
       " 'grot',\n",
       " 'hierna',\n",
       " 'koper',\n",
       " 'meter',\n",
       " 'open',\n",
       " 'terrein',\n",
       " 'vastgesteld',\n",
       " 'verklaard',\n",
       " 'verkocht',\n",
       " 'verkoper',\n",
       " 'voortdur'}"
      ]
     },
     "execution_count": 12,
     "metadata": {},
     "output_type": "execute_result"
    }
   ],
   "source": [
    "true = [tup[0] for tup in Counter(all_words_true).most_common()[:40]]\n",
    "false = [tup[0] for tup in Counter(all_words_false).most_common()[:40]]\n",
    "\n",
    "set(true) - set(false)"
   ]
  },
  {
   "cell_type": "markdown",
   "metadata": {},
   "source": [
    "As you can see, there are a variety of words which occur more often in relevant pages than non-relevant pages, with the words: algemeen, besluit and bestemming being the most obvious ones."
   ]
  },
  {
   "cell_type": "markdown",
   "metadata": {},
   "source": [
    "## Results \n",
    "\n",
    "For the results there is an initial baseline. This baseline assumes that every first page of a document requires a highlight, and serves as the baseline for all other methods described below. All the metrics implemented are the principle information retrieval measures: precision, recall and f1. \n",
    "\n",
    "There are two other methods which were tested as well and measured against this baseline. Both a TF and a TFIDF measure were tested implementing Chi2 for feature reduction, and logistic regression as the binary classifier. Mutual information was also tested, but in earlier experiments the Chi2 performed better compared to the mutual information classifier when looking at the information retrieval measures.\n",
    "\n",
    "To measure how well both these methods performed, a 5 fold cross validation grid search was performed with a variety of hyperparameters tested. The hyperparemeters which were tested were k (amount of features) and  min df (minimal amount of document frequency) for the vectorization method, and C (the regularization parameter) for the classifier (which in this case is always the logistic regression). This combination of different parameters resulted in 750 fits for both cross validation grid searches.\n",
    "\n",
    "The results of all the fits are plotted against the f1 measure and the individual hyperparameters parameter values which were tested. The standard deviation and best mean f1 measure over 5 folds is plotted as well. The red line indicates one standard deviation above and below the maximum mean f1 score. The blue line shows the standard deviation of the mean f1 measure over the folds and other values for the remaining hyperparameters. In this way, you can see which hyperparameters have the largest influence on the score."
   ]
  },
  {
   "cell_type": "markdown",
   "metadata": {},
   "source": [
    "### Baseline"
   ]
  },
  {
   "cell_type": "code",
   "execution_count": 19,
   "metadata": {},
   "outputs": [
    {
     "name": "stdout",
     "output_type": "stream",
     "text": [
      "Metrics: Baseline for over the whole dataset (no test/train)\n"
     ]
    },
    {
     "data": {
      "text/html": [
       "<table>\n",
       "<tbody>\n",
       "<tr><td>Metric   </td><td>Score              </td></tr>\n",
       "<tr><td>Precision</td><td>0.3561126373626374 </td></tr>\n",
       "<tr><td>Recall   </td><td>0.15227606461086637</td></tr>\n",
       "<tr><td>F1       </td><td>0.21333059041349517</td></tr>\n",
       "</tbody>\n",
       "</table>"
      ],
      "text/plain": [
       "<IPython.core.display.HTML object>"
      ]
     },
     "metadata": {},
     "output_type": "display_data"
    }
   ],
   "source": [
    "y_pred_base = []\n",
    "y_test_base = [str(x)[0] for  x in list(df_overlap.relevant)]\n",
    "for page in list(df_overlap.page):\n",
    "    if page == 1:\n",
    "        y_pred_base.append('T')\n",
    "    else:\n",
    "        y_pred_base.append('F')\n",
    "\n",
    "precision = precision_score(y_test_base, y_pred_base,  average=\"binary\", pos_label=\"T\")\n",
    "recall = recall_score(y_test_base, y_pred_base,  average=\"binary\", pos_label=\"T\")\n",
    "f1 = f1_score(y_test_base, y_pred_base, pos_label=\"T\")\n",
    "\n",
    "table = [['Metric', 'Score'],['Precision', precision],['Recall', recall], ['F1', f1]]\n",
    "print(\"Metrics: Baseline for over the whole dataset (no test/train)\")\n",
    "display(HTML(tabulate.tabulate(table, tablefmt='html')))"
   ]
  },
  {
   "cell_type": "code",
   "execution_count": 58,
   "metadata": {},
   "outputs": [
    {
     "name": "stdout",
     "output_type": "stream",
     "text": [
      "Metrics: Baseline for over the whole dataset (no test/train)\n"
     ]
    },
    {
     "data": {
      "text/html": [
       "<table>\n",
       "<tbody>\n",
       "<tr><td>Metric   </td><td>Score             </td></tr>\n",
       "<tr><td>Precision</td><td>0.2522071254148143</td></tr>\n",
       "<tr><td>Recall   </td><td>0.9515709898417198</td></tr>\n",
       "<tr><td>F1       </td><td>0.398732924173431 </td></tr>\n",
       "</tbody>\n",
       "</table>"
      ],
      "text/plain": [
       "<IPython.core.display.HTML object>"
      ]
     },
     "metadata": {},
     "output_type": "display_data"
    }
   ],
   "source": [
    "y_pred_base = []\n",
    "y_test_base = [str(x)[0] for  x in list(df_overlap.relevant)]\n",
    "for idx,page in enumerate(list(df_overlap.text_tokenized_with_numbers)):    \n",
    "    if any(word in page for word in ['algemen', 'besluit', 'bestemm', 'centiar', 'del', 'grot', 'hierna', 'percel']):\n",
    "        y_pred_base.append('T')\n",
    "    else:\n",
    "        y_pred_base.append('F')\n",
    "    \n",
    "            \n",
    "precision = precision_score(y_test_base, y_pred_base,  average=\"binary\", pos_label=\"T\")\n",
    "recall = recall_score(y_test_base, y_pred_base,  average=\"binary\", pos_label=\"T\")\n",
    "f1 = f1_score(y_test_base, y_pred_base, pos_label=\"T\")\n",
    "\n",
    "table = [['Metric', 'Score'],['Precision', precision],['Recall', recall], ['F1', f1]]\n",
    "print(\"Metrics: Baseline for over the whole dataset (no test/train)\")\n",
    "display(HTML(tabulate.tabulate(table, tablefmt='html')))"
   ]
  },
  {
   "cell_type": "markdown",
   "metadata": {},
   "source": [
    "## Comparison dataset with and without split deeds"
   ]
  },
  {
   "cell_type": "markdown",
   "metadata": {},
   "source": [
    "Here a comparison is made with a 5-fold cross validation for both datasets. One with the splitsingaktes and one without. It illustrates how the scores increase if ambigouity is decreased and therefore indicates how this is essential in improving the classification task."
   ]
  },
  {
   "cell_type": "code",
   "execution_count": 46,
   "metadata": {},
   "outputs": [
    {
     "name": "stderr",
     "output_type": "stream",
     "text": [
      "C:\\Users\\tom_v\\AppData\\Local\\Continuum\\anaconda2\\envs\\PythonNieuw\\lib\\site-packages\\sklearn\\linear_model\\logistic.py:432: FutureWarning: Default solver will be changed to 'lbfgs' in 0.22. Specify a solver to silence this warning.\n",
      "  FutureWarning)\n",
      "C:\\Users\\tom_v\\AppData\\Local\\Continuum\\anaconda2\\envs\\PythonNieuw\\lib\\site-packages\\sklearn\\linear_model\\logistic.py:432: FutureWarning: Default solver will be changed to 'lbfgs' in 0.22. Specify a solver to silence this warning.\n",
      "  FutureWarning)\n",
      "C:\\Users\\tom_v\\AppData\\Local\\Continuum\\anaconda2\\envs\\PythonNieuw\\lib\\site-packages\\sklearn\\linear_model\\logistic.py:432: FutureWarning: Default solver will be changed to 'lbfgs' in 0.22. Specify a solver to silence this warning.\n",
      "  FutureWarning)\n",
      "C:\\Users\\tom_v\\AppData\\Local\\Continuum\\anaconda2\\envs\\PythonNieuw\\lib\\site-packages\\sklearn\\linear_model\\logistic.py:432: FutureWarning: Default solver will be changed to 'lbfgs' in 0.22. Specify a solver to silence this warning.\n",
      "  FutureWarning)\n",
      "C:\\Users\\tom_v\\AppData\\Local\\Continuum\\anaconda2\\envs\\PythonNieuw\\lib\\site-packages\\sklearn\\linear_model\\logistic.py:432: FutureWarning: Default solver will be changed to 'lbfgs' in 0.22. Specify a solver to silence this warning.\n",
      "  FutureWarning)\n"
     ]
    },
    {
     "name": "stdout",
     "output_type": "stream",
     "text": [
      "Without split deeds\n",
      "             mean  std\n",
      "F1:          0.66  0.0065\n",
      "Precision:   0.75  0.0047\n",
      "Recall:      0.59  0.0077\n"
     ]
    }
   ],
   "source": [
    "texts = np.array([' '.join(text) for text in list(df_overlap.text_tokenized_with_numbers)])\n",
    "labels = np.array(list(df_overlap.relevant))\n",
    "\n",
    "vec = CountVectorizer()\n",
    "lr = LogisticRegression(C=10000, max_iter = 1000)\n",
    "k_best = SelectKBest(k=900)\n",
    "\n",
    "pipe = make_pipeline(vec, k_best, lr)\n",
    "\n",
    "scores = cross_validate(pipe, texts, labels, cv = 5, scoring = ['f1', 'recall', 'precision'])\n",
    "\n",
    "print('Without split deeds')\n",
    "print('             mean  std')\n",
    "print('F1:          ' + str(np.mean(scores['test_f1']))[:4] + '  '+ str(np.std(scores['test_f1']))[:6])\n",
    "print('Precision:   ' + str(np.mean(scores['test_precision']))[:4]+ '  '+  str(np.std(scores['test_precision']))[:6])\n",
    "print('Recall:      ' + str(np.mean(scores['test_recall']))[:4]+ '  '+ str(np.std(scores['test_recall']))[:6])"
   ]
  },
  {
   "cell_type": "code",
   "execution_count": 48,
   "metadata": {
    "scrolled": true
   },
   "outputs": [
    {
     "name": "stderr",
     "output_type": "stream",
     "text": [
      "C:\\Users\\tom_v\\AppData\\Local\\Continuum\\anaconda2\\envs\\PythonNieuw\\lib\\site-packages\\sklearn\\linear_model\\logistic.py:432: FutureWarning: Default solver will be changed to 'lbfgs' in 0.22. Specify a solver to silence this warning.\n",
      "  FutureWarning)\n",
      "C:\\Users\\tom_v\\AppData\\Local\\Continuum\\anaconda2\\envs\\PythonNieuw\\lib\\site-packages\\sklearn\\linear_model\\logistic.py:432: FutureWarning: Default solver will be changed to 'lbfgs' in 0.22. Specify a solver to silence this warning.\n",
      "  FutureWarning)\n",
      "C:\\Users\\tom_v\\AppData\\Local\\Continuum\\anaconda2\\envs\\PythonNieuw\\lib\\site-packages\\sklearn\\linear_model\\logistic.py:432: FutureWarning: Default solver will be changed to 'lbfgs' in 0.22. Specify a solver to silence this warning.\n",
      "  FutureWarning)\n",
      "C:\\Users\\tom_v\\AppData\\Local\\Continuum\\anaconda2\\envs\\PythonNieuw\\lib\\site-packages\\sklearn\\linear_model\\logistic.py:432: FutureWarning: Default solver will be changed to 'lbfgs' in 0.22. Specify a solver to silence this warning.\n",
      "  FutureWarning)\n",
      "C:\\Users\\tom_v\\AppData\\Local\\Continuum\\anaconda2\\envs\\PythonNieuw\\lib\\site-packages\\sklearn\\linear_model\\logistic.py:432: FutureWarning: Default solver will be changed to 'lbfgs' in 0.22. Specify a solver to silence this warning.\n",
      "  FutureWarning)\n"
     ]
    },
    {
     "name": "stdout",
     "output_type": "stream",
     "text": [
      "With split deeds\n",
      "             mean  std\n",
      "F1:          0.58  0.0110\n",
      "Precision:   0.74  0.0170\n",
      "Recall:      0.47  0.0184\n"
     ]
    }
   ],
   "source": [
    "texts = np.array([' '.join(text) for text in list(df_overlap.text_tokenized_with_numbers)])\n",
    "labels = np.array(list(df_overlap.relevant))\n",
    "\n",
    "vec = CountVectorizer()\n",
    "lr = LogisticRegression(C=10000, max_iter = 1000)\n",
    "k_best = SelectKBest(k=900)\n",
    "\n",
    "pipe = make_pipeline(vec, k_best, lr)\n",
    "\n",
    "scores = cross_validate(pipe, texts, labels, cv = 5, scoring = ['f1', 'recall', 'precision'])\n",
    "\n",
    "print('With split deeds')\n",
    "print('             mean  std')\n",
    "print('F1:          ' + str(np.mean(scores['test_f1']))[:4] + '  '+ str(np.std(scores['test_f1']))[:6])\n",
    "print('Precision:   ' + str(np.mean(scores['test_precision']))[:4]+ '  '+  str(np.std(scores['test_precision']))[:6])\n",
    "print('Recall:      ' + str(np.mean(scores['test_recall']))[:4]+ '  '+ str(np.std(scores['test_recall']))[:6])"
   ]
  },
  {
   "cell_type": "markdown",
   "metadata": {},
   "source": [
    "## TF Logistic Regression Grid Search"
   ]
  },
  {
   "cell_type": "code",
   "execution_count": 2,
   "metadata": {},
   "outputs": [],
   "source": [
    "df_tf_grid_search = pd.read_pickle('tf_grid.pickle')"
   ]
  },
  {
   "cell_type": "code",
   "execution_count": 5,
   "metadata": {},
   "outputs": [
    {
     "data": {
      "text/plain": [
       "{'dimred__k': 900, 'logistic__C': 10, 'tfidf__min_df': 3}"
      ]
     },
     "execution_count": 5,
     "metadata": {},
     "output_type": "execute_result"
    }
   ],
   "source": [
    "df_tf_grid_search.params[140]"
   ]
  },
  {
   "cell_type": "code",
   "execution_count": 53,
   "metadata": {},
   "outputs": [
    {
     "data": {
      "image/png": "[encoded data removed]",
      "text/plain": [
       "<Figure size 576x576 with 1 Axes>"
      ]
     },
     "metadata": {},
     "output_type": "display_data"
    }
   ],
   "source": [
    "df_to_plot_grid(df_tf_grid_search, 'dimred__k')"
   ]
  },
  {
   "cell_type": "markdown",
   "metadata": {},
   "source": [
    "Here is a plot of the amount of dimensions against the f1 score for the TF vectorization. The dimensions are all the k best words which were calculated by the Chi2 algorithm for the whole dataset(so not per class). As can be observed, the standard deviation is rather low for all the scores, and at around 800 features the score levels out."
   ]
  },
  {
   "cell_type": "markdown",
   "metadata": {},
   "source": [
    "## TFIDF Logistic Regression Grid Search"
   ]
  },
  {
   "cell_type": "code",
   "execution_count": 59,
   "metadata": {},
   "outputs": [],
   "source": [
    "df_tfidf_grid_search = pd.read_pickle('grid_search_cv5_k900_C10000_df2_f166_with_numbers.pickle')\n"
   ]
  },
  {
   "cell_type": "code",
   "execution_count": 18,
   "metadata": {},
   "outputs": [
    {
     "data": {
      "image/png": "[encoded data removed]",
      "text/plain": [
       "<Figure size 576x576 with 1 Axes>"
      ]
     },
     "metadata": {},
     "output_type": "display_data"
    }
   ],
   "source": [
    "df_to_plot_grid(df_tfidf_grid_search, 'dimred__k')"
   ]
  },
  {
   "cell_type": "markdown",
   "metadata": {},
   "source": [
    "Here is a plot of the amount of dimensions against the f1 score for the TFIDF vectorization. As can be observed, the standard deviation is rather high for all the scores, and at around 700 features the score levels out. The highest mean average score is slightly lower here compared to the tf method."
   ]
  },
  {
   "cell_type": "code",
   "execution_count": null,
   "metadata": {},
   "outputs": [],
   "source": []
  }
 ],
 "metadata": {
  "kernelspec": {
   "display_name": "Python 3",
   "language": "python",
   "name": "python3"
  },
  "language_info": {
   "codemirror_mode": {
    "name": "ipython",
    "version": 3
   },
   "file_extension": ".py",
   "mimetype": "text/x-python",
   "name": "python",
   "nbconvert_exporter": "python",
   "pygments_lexer": "ipython3",
   "version": "3.6.6"
  }
 },
 "nbformat": 4,
 "nbformat_minor": 2
}
