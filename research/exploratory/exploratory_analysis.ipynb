{
 "cells": [
  {
   "cell_type": "code",
   "execution_count": null,
   "metadata": {},
   "outputs": [],
   "source": [
    "import pandas as pd\n",
    "import matplotlib.pyplot as plt\n",
    "import numpy as np\n",
    "import sys\n",
    "from collections import Counter\n",
    "import json\n",
    "from bs4 import BeautifulSoup\n",
    "import os\n",
    "from pandas import Series\n",
    "\n",
    "base = os.getcwd().split('Master-Thesis')[0].replace('\\\\', '/')\n"
   ]
  },
  {
   "cell_type": "code",
   "execution_count": null,
   "metadata": {},
   "outputs": [],
   "source": [
    "#Paths for excel list\n",
    "path_dataset = base + '/Master-Thesis/research/pre-processing/notation_list.xlsx'"
   ]
  },
  {
   "cell_type": "code",
   "execution_count": null,
   "metadata": {},
   "outputs": [],
   "source": [
    "'''Read initial excel and perform some exploratory anaysis on this data'''\n",
    "\n",
    "df = pd.read_excel(path_dataset)\n",
    "df_processed = df.loc[(df['stand van zaken']=='ingelezen in hermes')\\\n",
    "                      & (df['bestemmingsomschrijving'] == df['bestemmingsomschrijving'] )]\n"
   ]
  },
  {
   "cell_type": "code",
   "execution_count": null,
   "metadata": {},
   "outputs": [],
   "source": [
    "#Shows excel file without any mutations\n",
    "df_processed.head()"
   ]
  },
  {
   "cell_type": "code",
   "execution_count": null,
   "metadata": {
    "scrolled": true
   },
   "outputs": [],
   "source": [
    "#Plot of the different bestemmingsomschrijvingen\n",
    "bestemmings_omschrijving = df_processed.bestemmingsomschrijving.value_counts()\n",
    "bestemmings_omschrijving[:30].plot(kind=\"bar\")"
   ]
  },
  {
   "cell_type": "code",
   "execution_count": null,
   "metadata": {},
   "outputs": [],
   "source": [
    "#Plot of the distribution of states of the files in the excel\n",
    "stand_van_zaken= df['stand van zaken'].value_counts()\n",
    "stand_van_zaken[:30].plot(kind=\"bar\")"
   ]
  },
  {
   "cell_type": "code",
   "execution_count": null,
   "metadata": {},
   "outputs": [],
   "source": [
    "#Distribution of readers of the pdfs\n",
    "readers= df_processed['medewerker_invoer_bestemming_username'].value_counts()\n",
    "readers[:100].plot(kind=\"bar\") "
   ]
  }
 ],
 "metadata": {
  "kernelspec": {
   "display_name": "Python 3",
   "language": "python",
   "name": "python3"
  },
  "language_info": {
   "codemirror_mode": {
    "name": "ipython",
    "version": 3
   },
   "file_extension": ".py",
   "mimetype": "text/x-python",
   "name": "python",
   "nbconvert_exporter": "python",
   "pygments_lexer": "ipython3",
   "version": "3.6.6"
  }
 },
 "nbformat": 4,
 "nbformat_minor": 2
}
